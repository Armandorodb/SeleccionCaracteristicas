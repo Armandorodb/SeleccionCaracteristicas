{
 "cells": [
  {
   "cell_type": "markdown",
   "metadata": {},
   "source": [
    "# Selección de características \n",
    "\n",
    "En este ejercicio seleccionaré las diferentes variables de una base de datos de vinos para poder determinar la calidad de algún vino, para esto hare uso de librerías especializadas. Se realizará un proceso de selección de características hacia adelante y de eliminación hacia atrás en una regresión lineal múltiple.\n",
    "\n",
    "Los datos originales se obtuvieron de UCI Machine Learning Repository:   \n",
    "https://archive.ics.uci.edu/dataset/186/wine+quality\n",
    "\n",
    "Y se reportaron originalmente en \"Modeling wine preferences by data mining from physicochemical properties\" en la revista \"Decision Support Systems\":  \n",
    "https://www.sciencedirect.com/science/article/abs/pii/S0167923609001377?via%3Dihub\n",
    "\n",
    "Las ligas se encuentran si quieres verificar las bases de datos, si deseas probar la funcionalidad del código usa la base de datos que se proporciona como descargable ya que los datos fueron modificados para trabajar con ellos de manera más sencilla.\n",
    "\n",
    "La base de datos cuenta con la siguiente información:  \n",
    "  \n",
    "* “acidezFija”. La acidez fija del vino, medida en gramos de ácido tartárico por decímetro\n",
    "cúbico.  \n",
    "* “acidezVolatil”. La acidez volátil del vino, medida en gramos de ácido acético por\n",
    "decímetro cúbico.  \n",
    "* “acidoCitrico”. Gramos de tácito cítrico por decímetro cúbico.  \n",
    "* “azucarResidual”. Gramos de azúcar por decímetro cúbico.  \n",
    "* “cloruros”. Gramos de cloruro de sodio por decímetro cúbico.  \n",
    "* “dioxidoAzufreLibre”. Miligramos de dióxido de azufre libre por decímetro cúbico.  \n",
    "* “dioxidoAzufreTotal”. Miligramos de dióxido de azufre total por decímetro cúbico.  \n",
    "* “densidad”. Medida en gramos por centímetro cúbico.  \n",
    "* “pH”. Valor del vino en la escala de pH.  \n",
    "* “sulfatos”. Gramos de sulfato de potasio por decímetro cúbico.  \n",
    "* “alcohol”. volumen percentil de alcohol en el vino.  \n",
    "* “calidad”. Mediana de la calidad otorgada por al menos tres catadores, en escala del 0\n",
    "(muy malo) al 10 (excelente)  \n"
   ]
  },
  {
   "cell_type": "markdown",
   "metadata": {},
   "source": [
    "Iniciaremos importando el archivo CSV, posteriormente visualizaremos sus dimensiones y las primeras 5 filas de datos"
   ]
  },
  {
   "cell_type": "code",
   "execution_count": 25,
   "metadata": {},
   "outputs": [
    {
     "name": "stdout",
     "output_type": "stream",
     "text": [
      "Dimensiones: (1599, 12)\n",
      "\n",
      "Primeras 5 filas:\n",
      "    acidezFija  acidezVolatil  acidoCitrico  azucarResidual  cloruros  \\\n",
      "0         7.4           0.70          0.00             1.9     0.076   \n",
      "1         7.8           0.88          0.00             2.6     0.098   \n",
      "2         7.8           0.76          0.04             2.3     0.092   \n",
      "3        11.2           0.28          0.56             1.9     0.075   \n",
      "4         7.4           0.70          0.00             1.9     0.076   \n",
      "\n",
      "   dioxidoAzufreLibre  dioxidoAzufreTotal  densidad    pH  sulfatos  alcohol  \\\n",
      "0                11.0                34.0    0.9978  3.51      0.56      9.4   \n",
      "1                25.0                67.0    0.9968  3.20      0.68      9.8   \n",
      "2                15.0                54.0    0.9970  3.26      0.65      9.8   \n",
      "3                17.0                60.0    0.9980  3.16      0.58      9.8   \n",
      "4                11.0                34.0    0.9978  3.51      0.56      9.4   \n",
      "\n",
      "   calidad  \n",
      "0        5  \n",
      "1        5  \n",
      "2        5  \n",
      "3        6  \n",
      "4        5  \n"
     ]
    }
   ],
   "source": [
    "import pandas as pd\n",
    "\n",
    "df = pd.read_csv(\"Datos1_4.csv\")\n",
    "\n",
    "print(\"Dimensiones:\", df.shape)\n",
    "print(\"\\nPrimeras 5 filas:\\n\",df.head(5))"
   ]
  },
  {
   "cell_type": "markdown",
   "metadata": {},
   "source": [
    "Ahora separaremos los datos en datos de entrenamiento 80% y el 20% para datos de prueba y revisaremos que la cantidad de datos sea acorde a la cantidad de datos con los que contamos."
   ]
  },
  {
   "cell_type": "code",
   "execution_count": 26,
   "metadata": {},
   "outputs": [
    {
     "name": "stdout",
     "output_type": "stream",
     "text": [
      "Suma de los datos: 1599\n"
     ]
    }
   ],
   "source": [
    "#Importa una funcion de una libreria\n",
    "from sklearn.model_selection import train_test_split\n",
    "\n",
    "#Divide los datos en datos de prueba y de entrenamiento\n",
    "train, test = train_test_split(df, train_size = 0.8)\n",
    "\n",
    "#Revisamos que tengamos la totalidad de los datos\n",
    "print (\"Suma de los datos:\", train.shape[0] + test.shape[0])"
   ]
  },
  {
   "cell_type": "markdown",
   "metadata": {},
   "source": [
    "Se separarán los datos en \"x\" y \"y\", y crearemos el modelo de sequential future selector de una librería especializada\n",
    "como estimador usaremos la regresión lineal, donde se escogerán de 2 a 8 variables, hacia adelante, con una métrica de R^2 y una validación cruzada de 10."
   ]
  },
  {
   "cell_type": "code",
   "execution_count": 27,
   "metadata": {},
   "outputs": [
    {
     "name": "stdout",
     "output_type": "stream",
     "text": [
      "Features(Variables selecionadas): \n",
      " ['acidezVolatil', 'azucarResidual', 'cloruros', 'dioxidoAzufreLibre', 'dioxidoAzufreTotal', 'pH', 'sulfatos', 'alcohol']\n"
     ]
    }
   ],
   "source": [
    "#Importamos librerias y funciones\n",
    "import numpy as np\n",
    "from sklearn.linear_model import LinearRegression\n",
    "from mlxtend.feature_selection import SequentialFeatureSelector as SFS\n",
    "\n",
    "#Separamos los datos en x y y de la serie de datos de entrenamiento\n",
    "x_train = train.drop(\"calidad\", axis= 1)\n",
    "y_train = train[\"calidad\"]\n",
    "\n",
    "#Creamos el modelo de regresion lineal\n",
    "lr = LinearRegression()\n",
    "\n",
    "#Vaciamos las caracteristicas del modelo de sequential future selector\n",
    "sfs = SFS(lr, k_features= (2,8), forward=True, scoring= 'r2', cv = 10 )\n",
    "\n",
    "#Ejecutamos el selector \n",
    "sfs.fit(x_train,y_train)\n",
    "\n",
    "#Obtenemos los nombres e indices de las variables selecionadas\n",
    "featuresIndx = list(sfs.k_feature_idx_)\n",
    "features = list(sfs.k_feature_names_)\n",
    "print(\"Features(Variables selecionadas): \\n\", features)"
   ]
  },
  {
   "cell_type": "markdown",
   "metadata": {},
   "source": [
    "Se entrenará un modelo el cual contenga únicamente las variables seleccionadas.\n",
    "\n",
    "Se va a predecir la respuesta en las observaciones de prueba y evaluaremos la predicción del modelo usando R^2"
   ]
  },
  {
   "cell_type": "code",
   "execution_count": 28,
   "metadata": {},
   "outputs": [
    {
     "name": "stdout",
     "output_type": "stream",
     "text": [
      "R^2 = 0.3039534622575165\n"
     ]
    }
   ],
   "source": [
    "from sklearn.metrics import r2_score\n",
    "\n",
    "\n",
    "y_test = test[\"calidad\"]\n",
    "x_test = test.drop(\"calidad\", axis = 1)\n",
    "\n",
    "\n",
    "x_train_s1 = x_train[features]\n",
    "x_test_s1 = x_test[features]\n",
    "\n",
    "lr.fit(x_train_s1,y_train)\n",
    "\n",
    "\n",
    "yhat = lr.predict(x_test_s1)\n",
    "\n",
    "r2 = r2_score(y_test , yhat)\n",
    "\n",
    "print(\"R^2 =\", r2)"
   ]
  },
  {
   "cell_type": "markdown",
   "metadata": {},
   "source": [
    "Una selección de características hacia atrás será llevada a cabo con las variables que habíamos obtenido previamente, dando como resultado una selección de características múltiple."
   ]
  },
  {
   "cell_type": "code",
   "execution_count": 29,
   "metadata": {},
   "outputs": [
    {
     "name": "stdout",
     "output_type": "stream",
     "text": [
      "Features(Variables selecionadas): \n",
      " ['acidezVolatil', 'cloruros', 'pH', 'sulfatos', 'alcohol']\n"
     ]
    }
   ],
   "source": [
    "#Creamos el modelo de regresion lineal\n",
    "lr1 = LinearRegression()\n",
    "\n",
    "#Vaciamos las caracteristicas del modelo de sequential future selector\n",
    "sfs1 = SFS(lr, k_features= (2,5), forward=False, scoring= 'r2', cv = 10 )\n",
    "\n",
    "#Ejecutamos el selector \n",
    "sfs1.fit(x_train_s1,y_train)\n",
    "\n",
    "#Obtenemos los nombres e indices de las variables selecionadas\n",
    "featuresIndx1 = list(sfs1.k_feature_idx_)\n",
    "features1 = list(sfs1.k_feature_names_)\n",
    "print(\"Features(Variables selecionadas): \\n\", features1)"
   ]
  },
  {
   "cell_type": "markdown",
   "metadata": {},
   "source": [
    "Con ese  modelo se obtendrá el nuevo valor de R^2"
   ]
  },
  {
   "cell_type": "code",
   "execution_count": 30,
   "metadata": {},
   "outputs": [
    {
     "name": "stdout",
     "output_type": "stream",
     "text": [
      "R^2 de la selección mixta de características = 0.2853533967394576\n"
     ]
    }
   ],
   "source": [
    "x_train_s2 = x_train[features1]\n",
    "x_test_s2 = x_test[features1]\n",
    "\n",
    "lr1.fit(x_train_s2,y_train)\n",
    "\n",
    "yhat1 = lr1.predict(x_test_s2)\n",
    "\n",
    "r2_mixto = r2_score(y_test,yhat1)\n",
    "\n",
    "print(\"R^2 de la selección mixta de características =\", r2_mixto)\n"
   ]
  },
  {
   "cell_type": "markdown",
   "metadata": {},
   "source": [
    "Podemos observar que la R^2 obtenida con el modelo que contiene menos variables de entrenamiento describe de peor manera los datos de prueba con el modelo generado a partir de los datos de entrenamiento, este comportamiento es esperable. En general cuando las variables estén relacionadas si aumenta el número de estas los modelos describen mejor el comportamiento de los datos cuando se comparan en términos de R^2, no obstante podríamos caer en una sobre-optimización además hay que tomar en cuenta que más variables aumentan por mucho los requerimientos de computación necesaria, por lo cual, para evaluar de manera correcta el desempeño de ambos sistemas sería conveniente utilizar la R^2 ajustada la cual toma en cuenta la cantidad de variables del modelo.\n",
    "\n",
    "¿Cuál modelo usar?\n",
    "Es importante no caer en la fuga de datos, en este caso utilizar indirectamente tus datos de prueba para el entrenamiento del modelo, por lo cual sería conveniente haber separado los datos en un segmento extra y poder elegir cual modelo usar usando la R^2 ajustada para posteriormente obtener la R^2 del modelo seleccionado. \n",
    "\n",
    "Dicho esto, diría que el modelo con menor cantidad de variables representa mejor el comportamiento que buscamos analizar, pero es solo una conjetura, para estar seguros deberíamos de utilizar R^2 ajustada para estar seguros de nuestra afirmación, sería bueno analizar si el ahorro en computo es relevante.\n"
   ]
  },
  {
   "cell_type": "markdown",
   "metadata": {},
   "source": [
    "Agradezco al lector por su atención:\n",
    "\n",
    "-Armando Rdz."
   ]
  }
 ],
 "metadata": {
  "kernelspec": {
   "display_name": "base",
   "language": "python",
   "name": "python3"
  },
  "language_info": {
   "codemirror_mode": {
    "name": "ipython",
    "version": 3
   },
   "file_extension": ".py",
   "mimetype": "text/x-python",
   "name": "python",
   "nbconvert_exporter": "python",
   "pygments_lexer": "ipython3",
   "version": "3.12.3"
  }
 },
 "nbformat": 4,
 "nbformat_minor": 2
}
